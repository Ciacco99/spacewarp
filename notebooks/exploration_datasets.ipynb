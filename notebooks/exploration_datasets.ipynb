{
 "cells": [
  {
   "cell_type": "markdown",
   "metadata": {},
   "source": [
    "# Exploration Notebook - Datasets\n",
    "\n",
    "Exploration notebook to choose initial datasets."
   ]
  },
  {
   "cell_type": "code",
   "execution_count": 3,
   "metadata": {},
   "outputs": [
    {
     "ename": "ModuleNotFoundError",
     "evalue": "No module named 'fiftyone'",
     "output_type": "error",
     "traceback": [
      "\u001b[1;31m---------------------------------------------------------------------------\u001b[0m",
      "\u001b[1;31mModuleNotFoundError\u001b[0m                       Traceback (most recent call last)",
      "Input \u001b[1;32mIn [3]\u001b[0m, in \u001b[0;36m<cell line: 3>\u001b[1;34m()\u001b[0m\n\u001b[0;32m      1\u001b[0m \u001b[38;5;66;03m# import img2dataset # pyarrow bug python 3.11\u001b[39;00m\n\u001b[0;32m      2\u001b[0m \u001b[38;5;66;03m# 53s first run, 0s second run\u001b[39;00m\n\u001b[1;32m----> 3\u001b[0m \u001b[38;5;28;01mimport\u001b[39;00m \u001b[38;5;21;01mfiftyone\u001b[39;00m \u001b[38;5;28;01mas\u001b[39;00m \u001b[38;5;21;01mfo\u001b[39;00m\n\u001b[0;32m      4\u001b[0m \u001b[38;5;28;01mimport\u001b[39;00m \u001b[38;5;21;01mfiftyone\u001b[39;00m\u001b[38;5;21;01m.\u001b[39;00m\u001b[38;5;21;01mzoo\u001b[39;00m \u001b[38;5;28;01mas\u001b[39;00m \u001b[38;5;21;01mfoz\u001b[39;00m\n",
      "\u001b[1;31mModuleNotFoundError\u001b[0m: No module named 'fiftyone'"
     ]
    }
   ],
   "source": [
    "# import img2dataset # pyarrow bug python 3.11\n",
    "# 53s first run, 0s second run\n",
    "import fiftyone as fo\n",
    "import fiftyone.zoo as foz\n"
   ]
  },
  {
   "cell_type": "code",
   "execution_count": 4,
   "metadata": {},
   "outputs": [
    {
     "ename": "NameError",
     "evalue": "name 'foz' is not defined",
     "output_type": "error",
     "traceback": [
      "\u001b[1;31m---------------------------------------------------------------------------\u001b[0m",
      "\u001b[1;31mNameError\u001b[0m                                 Traceback (most recent call last)",
      "Input \u001b[1;32mIn [4]\u001b[0m, in \u001b[0;36m<cell line: 1>\u001b[1;34m()\u001b[0m\n\u001b[1;32m----> 1\u001b[0m dataset \u001b[38;5;241m=\u001b[39m \u001b[43mfoz\u001b[49m\u001b[38;5;241m.\u001b[39mload_zoo_dataset(\u001b[38;5;124m\"\u001b[39m\u001b[38;5;124mquickstart\u001b[39m\u001b[38;5;124m\"\u001b[39m) \u001b[38;5;66;03m# https://colab.research.google.com/github/voxel51/fiftyone-examples/blob/master/examples/quickstart.ipynb\u001b[39;00m\n\u001b[0;32m      2\u001b[0m dataset\n",
      "\u001b[1;31mNameError\u001b[0m: name 'foz' is not defined"
     ]
    }
   ],
   "source": [
    "dataset = foz.load_zoo_dataset(\"quickstart\") # https://colab.research.google.com/github/voxel51/fiftyone-examples/blob/master/examples/quickstart.ipynb\n",
    "dataset"
   ]
  },
  {
   "cell_type": "code",
   "execution_count": 4,
   "metadata": {},
   "outputs": [
    {
     "data": {
      "text/html": [
       "\n",
       "        <iframe\n",
       "            width=\"100%\"\n",
       "            height=\"800\"\n",
       "            src=\"http://localhost:5151/?notebook=True&subscription=a7a0828f-6af1-4006-9cfc-c722f755be78\"\n",
       "            frameborder=\"0\"\n",
       "            allowfullscreen\n",
       "            \n",
       "        ></iframe>\n",
       "        "
      ],
      "text/plain": [
       "<IPython.lib.display.IFrame at 0x297632210>"
      ]
     },
     "metadata": {},
     "output_type": "display_data"
    }
   ],
   "source": [
    "session = fo.launch_app(dataset)"
   ]
  },
  {
   "cell_type": "code",
   "execution_count": 5,
   "metadata": {},
   "outputs": [],
   "source": [
    "from img2dataset import download# pyarrow bug python 3.11 - conda install 'pyarrow>=6.0.1,<8' as in requirements.txt of img2dataset github repo fixed it. \n",
    "# 31s first run, 0s second run\n"
   ]
  },
  {
   "cell_type": "code",
   "execution_count": 6,
   "metadata": {},
   "outputs": [],
   "source": [
    "import shutil\n",
    "import os "
   ]
  },
  {
   "cell_type": "code",
   "execution_count": 7,
   "metadata": {},
   "outputs": [],
   "source": [
    "# output_dir = os.path.abspath(\"../data/out\")\n",
    "# if os.path.exists(output_dir):\n",
    "#     shutil.rmtree(output_dir)\n",
    "\n",
    "# download(\n",
    "#     processes_count=1,\n",
    "#     thread_count=32,\n",
    "#     url_list=\"../data/in\",\n",
    "#     image_size=256,\n",
    "#     output_folder=output_dir,\n",
    "#     output_format=\"files\",\n",
    "#     input_format=\"json\",\n",
    "#     url_col=\"url\",\n",
    "#     caption_col=\"caption\",\n",
    "#     enable_wandb=False,\n",
    "#     number_sample_per_shard=10000,\n",
    "#     distributor=\"multiprocessing\",\n",
    "#     save_additional_columns=[\"id\"],\n",
    "# )"
   ]
  },
  {
   "cell_type": "code",
   "execution_count": 8,
   "metadata": {},
   "outputs": [],
   "source": [
    "    # https://github.com/rom1504/img2dataset/blob/main/img2dataset/main.py : ...\n",
    "# if params[\"save_additional_columns\"] is not None:\n",
    "    #     save_additional_columns_set = set(params[\"save_additional_columns\"])\n",
    "\n",
    "    #     forbidden_columns = set(\n",
    "    #         [\n",
    "    #             \"key\",\n",
    "    #             \"caption\",\n",
    "    #             \"url\",\n",
    "    #             \"width\",\n",
    "    #             \"height\",\n",
    "    #             \"original_width\",\n",
    "    #             \"original_height\",\n",
    "    #             \"status\",\n",
    "    #             \"error_message\",\n",
    "    #             \"exif\",\n",
    "    #             \"md5\",\n",
    "    #             \"sha256\",\n",
    "    #             \"sha512\",\n",
    "    #         ]\n",
    "    #     )\n",
    "    #     intersection = save_additional_columns_set.intersection(forbidden_columns)\n",
    "    #     if intersection:\n",
    "    #         raise ValueError(\n",
    "    #             f\"You cannot use in save_additional_columns the following columns: {intersection}.\"\n",
    "    #             + \"img2dataset reserves these columns for its own use. Please remove them from save_additional_columns.\"\n",
    "    #         )"
   ]
  },
  {
   "cell_type": "code",
   "execution_count": 9,
   "metadata": {},
   "outputs": [],
   "source": [
    "import pandas as pd"
   ]
  },
  {
   "cell_type": "code",
   "execution_count": 10,
   "metadata": {},
   "outputs": [
    {
     "data": {
      "text/html": [
       "<div>\n",
       "<style scoped>\n",
       "    .dataframe tbody tr th:only-of-type {\n",
       "        vertical-align: middle;\n",
       "    }\n",
       "\n",
       "    .dataframe tbody tr th {\n",
       "        vertical-align: top;\n",
       "    }\n",
       "\n",
       "    .dataframe thead th {\n",
       "        text-align: right;\n",
       "    }\n",
       "</style>\n",
       "<table border=\"1\" class=\"dataframe\">\n",
       "  <thead>\n",
       "    <tr style=\"text-align: right;\">\n",
       "      <th></th>\n",
       "      <th>caption</th>\n",
       "      <th>url</th>\n",
       "      <th>id</th>\n",
       "      <th>similarity</th>\n",
       "    </tr>\n",
       "  </thead>\n",
       "  <tbody>\n",
       "    <tr>\n",
       "      <th>0</th>\n",
       "      <td>Milky Way Border fabric by animotaxis on Spoon...</td>\n",
       "      <td>http://s3.amazonaws.com/spoonflower/public/des...</td>\n",
       "      <td>357452471</td>\n",
       "      <td>0.949364</td>\n",
       "    </tr>\n",
       "    <tr>\n",
       "      <th>1</th>\n",
       "      <td>yolları : Colorful space background with nebul...</td>\n",
       "      <td>https://vidcdn.123rf.com/450nwm/alila/alila120...</td>\n",
       "      <td>357452313</td>\n",
       "      <td>0.914966</td>\n",
       "    </tr>\n",
       "    <tr>\n",
       "      <th>2</th>\n",
       "      <td>Another Starscape</td>\n",
       "      <td>https://s1.piq.land/2013/05/01/UxXDi2uNcl2k5pY...</td>\n",
       "      <td>286780602</td>\n",
       "      <td>0.912202</td>\n",
       "    </tr>\n",
       "    <tr>\n",
       "      <th>3</th>\n",
       "      <td>Reminisce - Ultraviolet Collection - 12 x 12 D...</td>\n",
       "      <td>https://www.scrapbook.com/products/cache/SBC_r...</td>\n",
       "      <td>357452240</td>\n",
       "      <td>0.911739</td>\n",
       "    </tr>\n",
       "    <tr>\n",
       "      <th>4</th>\n",
       "      <td>Design-A-Room Sky Background</td>\n",
       "      <td>http://s7.orientaltrading.com/is/image/Orienta...</td>\n",
       "      <td>349508390</td>\n",
       "      <td>0.910851</td>\n",
       "    </tr>\n",
       "    <tr>\n",
       "      <th>5</th>\n",
       "      <td>Falling Snow. Merry Christmas Background with ...</td>\n",
       "      <td>https://t2.ftcdn.net/jpg/00/74/47/63/240_F_744...</td>\n",
       "      <td>265482157</td>\n",
       "      <td>0.910811</td>\n",
       "    </tr>\n",
       "    <tr>\n",
       "      <th>6</th>\n",
       "      <td>Starry night seamless pattern Stock Vector - 1...</td>\n",
       "      <td>https://us.123rf.com/450wm/volyk/volyk1303/vol...</td>\n",
       "      <td>349507873</td>\n",
       "      <td>0.904492</td>\n",
       "    </tr>\n",
       "    <tr>\n",
       "      <th>7</th>\n",
       "      <td>Starry night with moon, vector illustration</td>\n",
       "      <td>https://t1.ftcdn.net/jpg/00/67/83/44/240_F_678...</td>\n",
       "      <td>136846253</td>\n",
       "      <td>0.904374</td>\n",
       "    </tr>\n",
       "    <tr>\n",
       "      <th>8</th>\n",
       "      <td>Arthouse Fantasia Behang 260008 Diamond Galaxy...</td>\n",
       "      <td>https://cdn.myonlinestore.eu/93d313eb-6be1-11e...</td>\n",
       "      <td>151633055</td>\n",
       "      <td>0.904343</td>\n",
       "    </tr>\n",
       "    <tr>\n",
       "      <th>9</th>\n",
       "      <td>Holiday background with shiny stars in the dar...</td>\n",
       "      <td>https://t1.ftcdn.net/jpg/00/61/69/38/160_F_616...</td>\n",
       "      <td>349506644</td>\n",
       "      <td>0.903785</td>\n",
       "    </tr>\n",
       "    <tr>\n",
       "      <th>10</th>\n",
       "      <td>dark cloud: Sunrise sky digital watercolor pai...</td>\n",
       "      <td>https://us.123rf.com/450wm/kostins/kostins1601...</td>\n",
       "      <td>151631983</td>\n",
       "      <td>0.902539</td>\n",
       "    </tr>\n",
       "    <tr>\n",
       "      <th>11</th>\n",
       "      <td>Galaxy Space Jersey Knit Stardust Purple Fabric</td>\n",
       "      <td>http://www.shushustyle.com/sssimg/fabric/tt/kn...</td>\n",
       "      <td>357453101</td>\n",
       "      <td>0.901714</td>\n",
       "    </tr>\n",
       "    <tr>\n",
       "      <th>12</th>\n",
       "      <td>WOLVES IN THE THRONE... - CELESTITE...</td>\n",
       "      <td>http://www.fortedistribution.co.uk/getImage.ph...</td>\n",
       "      <td>357455754</td>\n",
       "      <td>0.900034</td>\n",
       "    </tr>\n",
       "    <tr>\n",
       "      <th>13</th>\n",
       "      <td>android-wallpaper-vd61-frontier-iphone-space-c...</td>\n",
       "      <td>https://papers.co/wallpaper/papers.co-vd61-fro...</td>\n",
       "      <td>357453884</td>\n",
       "      <td>0.900033</td>\n",
       "    </tr>\n",
       "    <tr>\n",
       "      <th>14</th>\n",
       "      <td>Night sky with stars. Abstract background Stoc...</td>\n",
       "      <td>https://thumbs.dreamstime.com/m/night-sky-star...</td>\n",
       "      <td>136846753</td>\n",
       "      <td>0.899956</td>\n",
       "    </tr>\n",
       "    <tr>\n",
       "      <th>15</th>\n",
       "      <td>Seamless pattern of constellations on black ba...</td>\n",
       "      <td>https://img.freepik.com/free-vector/seamless-p...</td>\n",
       "      <td>349506746</td>\n",
       "      <td>0.899295</td>\n",
       "    </tr>\n",
       "  </tbody>\n",
       "</table>\n",
       "</div>"
      ],
      "text/plain": [
       "                                              caption  \\\n",
       "0   Milky Way Border fabric by animotaxis on Spoon...   \n",
       "1   yolları : Colorful space background with nebul...   \n",
       "2                                   Another Starscape   \n",
       "3   Reminisce - Ultraviolet Collection - 12 x 12 D...   \n",
       "4                        Design-A-Room Sky Background   \n",
       "5   Falling Snow. Merry Christmas Background with ...   \n",
       "6   Starry night seamless pattern Stock Vector - 1...   \n",
       "7         Starry night with moon, vector illustration   \n",
       "8   Arthouse Fantasia Behang 260008 Diamond Galaxy...   \n",
       "9   Holiday background with shiny stars in the dar...   \n",
       "10  dark cloud: Sunrise sky digital watercolor pai...   \n",
       "11    Galaxy Space Jersey Knit Stardust Purple Fabric   \n",
       "12             WOLVES IN THE THRONE... - CELESTITE...   \n",
       "13  android-wallpaper-vd61-frontier-iphone-space-c...   \n",
       "14  Night sky with stars. Abstract background Stoc...   \n",
       "15  Seamless pattern of constellations on black ba...   \n",
       "\n",
       "                                                  url         id  similarity  \n",
       "0   http://s3.amazonaws.com/spoonflower/public/des...  357452471    0.949364  \n",
       "1   https://vidcdn.123rf.com/450nwm/alila/alila120...  357452313    0.914966  \n",
       "2   https://s1.piq.land/2013/05/01/UxXDi2uNcl2k5pY...  286780602    0.912202  \n",
       "3   https://www.scrapbook.com/products/cache/SBC_r...  357452240    0.911739  \n",
       "4   http://s7.orientaltrading.com/is/image/Orienta...  349508390    0.910851  \n",
       "5   https://t2.ftcdn.net/jpg/00/74/47/63/240_F_744...  265482157    0.910811  \n",
       "6   https://us.123rf.com/450wm/volyk/volyk1303/vol...  349507873    0.904492  \n",
       "7   https://t1.ftcdn.net/jpg/00/67/83/44/240_F_678...  136846253    0.904374  \n",
       "8   https://cdn.myonlinestore.eu/93d313eb-6be1-11e...  151633055    0.904343  \n",
       "9   https://t1.ftcdn.net/jpg/00/61/69/38/160_F_616...  349506644    0.903785  \n",
       "10  https://us.123rf.com/450wm/kostins/kostins1601...  151631983    0.902539  \n",
       "11  http://www.shushustyle.com/sssimg/fabric/tt/kn...  357453101    0.901714  \n",
       "12  http://www.fortedistribution.co.uk/getImage.ph...  357455754    0.900034  \n",
       "13  https://papers.co/wallpaper/papers.co-vd61-fro...  357453884    0.900033  \n",
       "14  https://thumbs.dreamstime.com/m/night-sky-star...  136846753    0.899956  \n",
       "15  https://img.freepik.com/free-vector/seamless-p...  349506746    0.899295  "
      ]
     },
     "execution_count": 10,
     "metadata": {},
     "output_type": "execute_result"
    }
   ],
   "source": [
    "df = pd.read_json(\"../data/in/clipsubset.json\")\n",
    "df"
   ]
  },
  {
   "cell_type": "code",
   "execution_count": 11,
   "metadata": {},
   "outputs": [],
   "source": [
    "df.to_csv(\"../data/in/clipsubset.csv\", index=False)"
   ]
  },
  {
   "cell_type": "code",
   "execution_count": 12,
   "metadata": {},
   "outputs": [
    {
     "name": "stdout",
     "output_type": "stream",
     "text": [
      "Starting the downloading of this file\n",
      "Sharding file number 1 of 1 called /Users/jacopoferro/Documents/CompPhoto/spacewarp/data/in/clipsubset.csv\n"
     ]
    },
    {
     "name": "stderr",
     "output_type": "stream",
     "text": [
      "0it [00:00, ?it/s]\n"
     ]
    },
    {
     "ename": "ValueError",
     "evalue": "Expected object or value",
     "output_type": "error",
     "traceback": [
      "\u001b[0;31m---------------------------------------------------------------------------\u001b[0m",
      "\u001b[0;31mValueError\u001b[0m                                Traceback (most recent call last)",
      "Cell \u001b[0;32mIn[12], line 1\u001b[0m\n\u001b[0;32m----> 1\u001b[0m download(\n\u001b[1;32m      2\u001b[0m     \u001b[39m#processes_count=1,\u001b[39;49;00m\n\u001b[1;32m      3\u001b[0m     \u001b[39m#thread_count=32,\u001b[39;49;00m\n\u001b[1;32m      4\u001b[0m     url_list\u001b[39m=\u001b[39;49m\u001b[39m\"\u001b[39;49m\u001b[39m../data/in/clipsubset.csv\u001b[39;49m\u001b[39m\"\u001b[39;49m,\n\u001b[1;32m      5\u001b[0m     input_format\u001b[39m=\u001b[39;49m\u001b[39m\"\u001b[39;49m\u001b[39mjson\u001b[39;49m\u001b[39m\"\u001b[39;49m,\n\u001b[1;32m      6\u001b[0m     url_col\u001b[39m=\u001b[39;49m\u001b[39m\"\u001b[39;49m\u001b[39murl\u001b[39;49m\u001b[39m\"\u001b[39;49m,\n\u001b[1;32m      7\u001b[0m     \u001b[39m#caption_col=\"caption\",\u001b[39;49;00m\n\u001b[1;32m      8\u001b[0m     number_sample_per_shard\u001b[39m=\u001b[39;49m\u001b[39m10\u001b[39;49m,\n\u001b[1;32m      9\u001b[0m     oom_shard_count\u001b[39m=\u001b[39;49m\u001b[39m1\u001b[39;49m,\n\u001b[1;32m     10\u001b[0m     \n\u001b[1;32m     11\u001b[0m )\n",
      "File \u001b[0;32m~/opt/anaconda3/envs/computational_photography/lib/python3.11/site-packages/img2dataset/main.py:250\u001b[0m, in \u001b[0;36mdownload\u001b[0;34m(url_list, image_size, output_folder, processes_count, resize_mode, resize_only_if_bigger, upscale_interpolation, downscale_interpolation, encode_quality, encode_format, skip_reencode, output_format, input_format, url_col, caption_col, bbox_col, thread_count, number_sample_per_shard, extract_exif, save_additional_columns, timeout, enable_wandb, wandb_project, oom_shard_count, compute_hash, verify_hash, distributor, subjob_size, retries, disable_all_reencoding, min_image_size, max_image_area, max_aspect_ratio, incremental_mode, max_shard_retry, user_agent_token, disallowed_header_directives)\u001b[0m\n\u001b[1;32m    247\u001b[0m \u001b[39melse\u001b[39;00m:\n\u001b[1;32m    248\u001b[0m     \u001b[39mraise\u001b[39;00m \u001b[39mValueError\u001b[39;00m(\u001b[39mf\u001b[39m\u001b[39m\"\u001b[39m\u001b[39mDistributor \u001b[39m\u001b[39m{\u001b[39;00mdistributor\u001b[39m}\u001b[39;00m\u001b[39m not supported\u001b[39m\u001b[39m\"\u001b[39m)\n\u001b[0;32m--> 250\u001b[0m distributor_fn(\n\u001b[1;32m    251\u001b[0m     processes_count,\n\u001b[1;32m    252\u001b[0m     downloader,\n\u001b[1;32m    253\u001b[0m     reader,\n\u001b[1;32m    254\u001b[0m     subjob_size,\n\u001b[1;32m    255\u001b[0m     max_shard_retry,\n\u001b[1;32m    256\u001b[0m )\n\u001b[1;32m    257\u001b[0m logger_process\u001b[39m.\u001b[39mjoin()\n\u001b[1;32m    258\u001b[0m fs\u001b[39m.\u001b[39mrm(tmp_dir, recursive\u001b[39m=\u001b[39m\u001b[39mTrue\u001b[39;00m)\n",
      "File \u001b[0;32m~/opt/anaconda3/envs/computational_photography/lib/python3.11/site-packages/img2dataset/distributor.py:36\u001b[0m, in \u001b[0;36mmultiprocessing_distributor\u001b[0;34m(processes_count, downloader, reader, _, max_shard_retry)\u001b[0m\n\u001b[1;32m     33\u001b[0m             failed_shards\u001b[39m.\u001b[39mappend(row)\n\u001b[1;32m     34\u001b[0m     \u001b[39mreturn\u001b[39;00m failed_shards\n\u001b[0;32m---> 36\u001b[0m failed_shards \u001b[39m=\u001b[39m run(reader)\n\u001b[1;32m     38\u001b[0m retrier(run, failed_shards, max_shard_retry)\n\u001b[1;32m     40\u001b[0m process_pool\u001b[39m.\u001b[39mterminate()\n",
      "File \u001b[0;32m~/opt/anaconda3/envs/computational_photography/lib/python3.11/site-packages/img2dataset/distributor.py:31\u001b[0m, in \u001b[0;36mmultiprocessing_distributor.<locals>.run\u001b[0;34m(gen)\u001b[0m\n\u001b[1;32m     29\u001b[0m \u001b[39mdef\u001b[39;00m \u001b[39mrun\u001b[39m(gen):\n\u001b[1;32m     30\u001b[0m     failed_shards \u001b[39m=\u001b[39m []\n\u001b[0;32m---> 31\u001b[0m     \u001b[39mfor\u001b[39;00m (status, row) \u001b[39min\u001b[39;00m tqdm(process_pool\u001b[39m.\u001b[39mimap_unordered(downloader, gen)):\n\u001b[1;32m     32\u001b[0m         \u001b[39mif\u001b[39;00m status \u001b[39mis\u001b[39;00m \u001b[39mFalse\u001b[39;00m:\n\u001b[1;32m     33\u001b[0m             failed_shards\u001b[39m.\u001b[39mappend(row)\n",
      "File \u001b[0;32m~/opt/anaconda3/envs/computational_photography/lib/python3.11/site-packages/tqdm/std.py:1178\u001b[0m, in \u001b[0;36mtqdm.__iter__\u001b[0;34m(self)\u001b[0m\n\u001b[1;32m   1175\u001b[0m time \u001b[39m=\u001b[39m \u001b[39mself\u001b[39m\u001b[39m.\u001b[39m_time\n\u001b[1;32m   1177\u001b[0m \u001b[39mtry\u001b[39;00m:\n\u001b[0;32m-> 1178\u001b[0m     \u001b[39mfor\u001b[39;00m obj \u001b[39min\u001b[39;00m iterable:\n\u001b[1;32m   1179\u001b[0m         \u001b[39myield\u001b[39;00m obj\n\u001b[1;32m   1180\u001b[0m         \u001b[39m# Update and possibly print the progressbar.\u001b[39;00m\n\u001b[1;32m   1181\u001b[0m         \u001b[39m# Note: does not call self.update(1) for speed optimisation.\u001b[39;00m\n",
      "File \u001b[0;32m~/opt/anaconda3/envs/computational_photography/lib/python3.11/multiprocessing/pool.py:873\u001b[0m, in \u001b[0;36mIMapIterator.next\u001b[0;34m(self, timeout)\u001b[0m\n\u001b[1;32m    871\u001b[0m \u001b[39mif\u001b[39;00m success:\n\u001b[1;32m    872\u001b[0m     \u001b[39mreturn\u001b[39;00m value\n\u001b[0;32m--> 873\u001b[0m \u001b[39mraise\u001b[39;00m value\n",
      "\u001b[0;31mValueError\u001b[0m: Expected object or value"
     ]
    }
   ],
   "source": [
    "# \n",
    "# ValueError: Expected object or value\n",
    "#\n",
    "# download(\n",
    "#     #processes_count=1,\n",
    "#     #thread_count=32,\n",
    "#     url_list=\"../data/in/clipsubset.csv\",\n",
    "#     input_format=\"json\",\n",
    "#     url_col=\"url\",\n",
    "#     #caption_col=\"caption\",\n",
    "#     number_sample_per_shard=10,\n",
    "#     oom_shard_count=1,\n",
    "    \n",
    "# )"
   ]
  },
  {
   "cell_type": "code",
   "execution_count": 14,
   "metadata": {},
   "outputs": [],
   "source": [
    "# let's dumb it down even more then.\n",
    "!echo 'https://placekitten.com/200/305' >> myimglist.txt\n",
    "!echo 'https://placekitten.com/200/304' >> myimglist.txt\n",
    "!echo 'https://placekitten.com/200/303' >> myimglist.txt"
   ]
  },
  {
   "cell_type": "code",
   "execution_count": 15,
   "metadata": {},
   "outputs": [
    {
     "name": "stdout",
     "output_type": "stream",
     "text": [
      "Starting the downloading of this file\n",
      "Sharding file number 1 of 1 called /Users/jacopoferro/Documents/CompPhoto/spacewarp/notebooks/myimglist.txt\n",
      "0it [00:00, ?it/s]File sharded in 1 shards\n",
      "Downloading starting now, check your bandwidth speed (with bwm-ng)your cpu (with htop), and your disk usage (with iotop)!\n",
      "1it [00:04,  4.24s/it]\n",
      "worker  - success: 1.000 - failed to download: 0.000 - failed to resize: 0.000 - images per sec: 3 - count: 6\n",
      "total   - success: 1.000 - failed to download: 0.000 - failed to resize: 0.000 - images per sec: 3 - count: 6\n"
     ]
    }
   ],
   "source": [
    "!img2dataset --url_list=myimglist.txt --output_folder=output_folder --thread_count=64 --image_size=256"
   ]
  },
  {
   "cell_type": "code",
   "execution_count": 17,
   "metadata": {},
   "outputs": [
    {
     "data": {
      "image/jpeg": "[encoded data removed]",
      "text/plain": [
       "<IPython.core.display.Image object>"
      ]
     },
     "execution_count": 17,
     "metadata": {},
     "output_type": "execute_result"
    }
   ],
   "source": [
    "from IPython.display import Image\n",
    "Image(filename='output_folder/00000/000000000.jpg')"
   ]
  },
  {
   "cell_type": "code",
   "execution_count": 18,
   "metadata": {},
   "outputs": [
    {
     "data": {
      "text/html": [
       "<div>\n",
       "<style scoped>\n",
       "    .dataframe tbody tr th:only-of-type {\n",
       "        vertical-align: middle;\n",
       "    }\n",
       "\n",
       "    .dataframe tbody tr th {\n",
       "        vertical-align: top;\n",
       "    }\n",
       "\n",
       "    .dataframe thead th {\n",
       "        text-align: right;\n",
       "    }\n",
       "</style>\n",
       "<table border=\"1\" class=\"dataframe\">\n",
       "  <thead>\n",
       "    <tr style=\"text-align: right;\">\n",
       "      <th></th>\n",
       "      <th>caption</th>\n",
       "      <th>url</th>\n",
       "      <th>id</th>\n",
       "      <th>similarity</th>\n",
       "    </tr>\n",
       "  </thead>\n",
       "  <tbody>\n",
       "    <tr>\n",
       "      <th>0</th>\n",
       "      <td>Milky Way Border fabric by animotaxis on Spoon...</td>\n",
       "      <td>http://s3.amazonaws.com/spoonflower/public/des...</td>\n",
       "      <td>357452471</td>\n",
       "      <td>0.949364</td>\n",
       "    </tr>\n",
       "    <tr>\n",
       "      <th>1</th>\n",
       "      <td>yolları : Colorful space background with nebul...</td>\n",
       "      <td>https://vidcdn.123rf.com/450nwm/alila/alila120...</td>\n",
       "      <td>357452313</td>\n",
       "      <td>0.914966</td>\n",
       "    </tr>\n",
       "    <tr>\n",
       "      <th>2</th>\n",
       "      <td>Another Starscape</td>\n",
       "      <td>https://s1.piq.land/2013/05/01/UxXDi2uNcl2k5pY...</td>\n",
       "      <td>286780602</td>\n",
       "      <td>0.912202</td>\n",
       "    </tr>\n",
       "    <tr>\n",
       "      <th>3</th>\n",
       "      <td>Reminisce - Ultraviolet Collection - 12 x 12 D...</td>\n",
       "      <td>https://www.scrapbook.com/products/cache/SBC_r...</td>\n",
       "      <td>357452240</td>\n",
       "      <td>0.911739</td>\n",
       "    </tr>\n",
       "    <tr>\n",
       "      <th>4</th>\n",
       "      <td>Design-A-Room Sky Background</td>\n",
       "      <td>http://s7.orientaltrading.com/is/image/Orienta...</td>\n",
       "      <td>349508390</td>\n",
       "      <td>0.910851</td>\n",
       "    </tr>\n",
       "    <tr>\n",
       "      <th>5</th>\n",
       "      <td>Falling Snow. Merry Christmas Background with ...</td>\n",
       "      <td>https://t2.ftcdn.net/jpg/00/74/47/63/240_F_744...</td>\n",
       "      <td>265482157</td>\n",
       "      <td>0.910811</td>\n",
       "    </tr>\n",
       "    <tr>\n",
       "      <th>6</th>\n",
       "      <td>Starry night seamless pattern Stock Vector - 1...</td>\n",
       "      <td>https://us.123rf.com/450wm/volyk/volyk1303/vol...</td>\n",
       "      <td>349507873</td>\n",
       "      <td>0.904492</td>\n",
       "    </tr>\n",
       "    <tr>\n",
       "      <th>7</th>\n",
       "      <td>Starry night with moon, vector illustration</td>\n",
       "      <td>https://t1.ftcdn.net/jpg/00/67/83/44/240_F_678...</td>\n",
       "      <td>136846253</td>\n",
       "      <td>0.904374</td>\n",
       "    </tr>\n",
       "    <tr>\n",
       "      <th>8</th>\n",
       "      <td>Arthouse Fantasia Behang 260008 Diamond Galaxy...</td>\n",
       "      <td>https://cdn.myonlinestore.eu/93d313eb-6be1-11e...</td>\n",
       "      <td>151633055</td>\n",
       "      <td>0.904343</td>\n",
       "    </tr>\n",
       "    <tr>\n",
       "      <th>9</th>\n",
       "      <td>Holiday background with shiny stars in the dar...</td>\n",
       "      <td>https://t1.ftcdn.net/jpg/00/61/69/38/160_F_616...</td>\n",
       "      <td>349506644</td>\n",
       "      <td>0.903785</td>\n",
       "    </tr>\n",
       "    <tr>\n",
       "      <th>10</th>\n",
       "      <td>dark cloud: Sunrise sky digital watercolor pai...</td>\n",
       "      <td>https://us.123rf.com/450wm/kostins/kostins1601...</td>\n",
       "      <td>151631983</td>\n",
       "      <td>0.902539</td>\n",
       "    </tr>\n",
       "    <tr>\n",
       "      <th>11</th>\n",
       "      <td>Galaxy Space Jersey Knit Stardust Purple Fabric</td>\n",
       "      <td>http://www.shushustyle.com/sssimg/fabric/tt/kn...</td>\n",
       "      <td>357453101</td>\n",
       "      <td>0.901714</td>\n",
       "    </tr>\n",
       "    <tr>\n",
       "      <th>12</th>\n",
       "      <td>WOLVES IN THE THRONE... - CELESTITE...</td>\n",
       "      <td>http://www.fortedistribution.co.uk/getImage.ph...</td>\n",
       "      <td>357455754</td>\n",
       "      <td>0.900034</td>\n",
       "    </tr>\n",
       "    <tr>\n",
       "      <th>13</th>\n",
       "      <td>android-wallpaper-vd61-frontier-iphone-space-c...</td>\n",
       "      <td>https://papers.co/wallpaper/papers.co-vd61-fro...</td>\n",
       "      <td>357453884</td>\n",
       "      <td>0.900033</td>\n",
       "    </tr>\n",
       "    <tr>\n",
       "      <th>14</th>\n",
       "      <td>Night sky with stars. Abstract background Stoc...</td>\n",
       "      <td>https://thumbs.dreamstime.com/m/night-sky-star...</td>\n",
       "      <td>136846753</td>\n",
       "      <td>0.899956</td>\n",
       "    </tr>\n",
       "    <tr>\n",
       "      <th>15</th>\n",
       "      <td>Seamless pattern of constellations on black ba...</td>\n",
       "      <td>https://img.freepik.com/free-vector/seamless-p...</td>\n",
       "      <td>349506746</td>\n",
       "      <td>0.899295</td>\n",
       "    </tr>\n",
       "  </tbody>\n",
       "</table>\n",
       "</div>"
      ],
      "text/plain": [
       "                                              caption  \\\n",
       "0   Milky Way Border fabric by animotaxis on Spoon...   \n",
       "1   yolları : Colorful space background with nebul...   \n",
       "2                                   Another Starscape   \n",
       "3   Reminisce - Ultraviolet Collection - 12 x 12 D...   \n",
       "4                        Design-A-Room Sky Background   \n",
       "5   Falling Snow. Merry Christmas Background with ...   \n",
       "6   Starry night seamless pattern Stock Vector - 1...   \n",
       "7         Starry night with moon, vector illustration   \n",
       "8   Arthouse Fantasia Behang 260008 Diamond Galaxy...   \n",
       "9   Holiday background with shiny stars in the dar...   \n",
       "10  dark cloud: Sunrise sky digital watercolor pai...   \n",
       "11    Galaxy Space Jersey Knit Stardust Purple Fabric   \n",
       "12             WOLVES IN THE THRONE... - CELESTITE...   \n",
       "13  android-wallpaper-vd61-frontier-iphone-space-c...   \n",
       "14  Night sky with stars. Abstract background Stoc...   \n",
       "15  Seamless pattern of constellations on black ba...   \n",
       "\n",
       "                                                  url         id  similarity  \n",
       "0   http://s3.amazonaws.com/spoonflower/public/des...  357452471    0.949364  \n",
       "1   https://vidcdn.123rf.com/450nwm/alila/alila120...  357452313    0.914966  \n",
       "2   https://s1.piq.land/2013/05/01/UxXDi2uNcl2k5pY...  286780602    0.912202  \n",
       "3   https://www.scrapbook.com/products/cache/SBC_r...  357452240    0.911739  \n",
       "4   http://s7.orientaltrading.com/is/image/Orienta...  349508390    0.910851  \n",
       "5   https://t2.ftcdn.net/jpg/00/74/47/63/240_F_744...  265482157    0.910811  \n",
       "6   https://us.123rf.com/450wm/volyk/volyk1303/vol...  349507873    0.904492  \n",
       "7   https://t1.ftcdn.net/jpg/00/67/83/44/240_F_678...  136846253    0.904374  \n",
       "8   https://cdn.myonlinestore.eu/93d313eb-6be1-11e...  151633055    0.904343  \n",
       "9   https://t1.ftcdn.net/jpg/00/61/69/38/160_F_616...  349506644    0.903785  \n",
       "10  https://us.123rf.com/450wm/kostins/kostins1601...  151631983    0.902539  \n",
       "11  http://www.shushustyle.com/sssimg/fabric/tt/kn...  357453101    0.901714  \n",
       "12  http://www.fortedistribution.co.uk/getImage.ph...  357455754    0.900034  \n",
       "13  https://papers.co/wallpaper/papers.co-vd61-fro...  357453884    0.900033  \n",
       "14  https://thumbs.dreamstime.com/m/night-sky-star...  136846753    0.899956  \n",
       "15  https://img.freepik.com/free-vector/seamless-p...  349506746    0.899295  "
      ]
     },
     "execution_count": 18,
     "metadata": {},
     "output_type": "execute_result"
    }
   ],
   "source": [
    "df = pd.read_csv(\"../data/in/clipsubset.csv\")\n",
    "df"
   ]
  },
  {
   "cell_type": "code",
   "execution_count": 19,
   "metadata": {},
   "outputs": [
    {
     "name": "stdout",
     "output_type": "stream",
     "text": [
      "Starting the downloading of this file\n",
      "Sharding file number 1 of 1 called /Users/jacopoferro/Documents/CompPhoto/spacewarp/data/in/clipsubset.json\n"
     ]
    },
    {
     "name": "stderr",
     "output_type": "stream",
     "text": [
      "0it [00:00, ?it/s]"
     ]
    },
    {
     "name": "stdout",
     "output_type": "stream",
     "text": [
      "File sharded in 1 shards\n",
      "Downloading starting now, check your bandwidth speed (with bwm-ng)your cpu (with htop), and your disk usage (with iotop)!\n"
     ]
    },
    {
     "name": "stderr",
     "output_type": "stream",
     "text": [
      "1it [00:13, 13.92s/it]\n"
     ]
    },
    {
     "name": "stdout",
     "output_type": "stream",
     "text": [
      "worker  - success: 0.875 - failed to download: 0.125 - failed to resize: 0.000 - images per sec: 2 - count: 16\n",
      "total   - success: 0.875 - failed to download: 0.125 - failed to resize: 0.000 - images per sec: 2 - count: 16\n"
     ]
    }
   ],
   "source": [
    "input_urls = os.path.abspath(\"../data/in/clipsubset.json\")\n",
    "input_format = \"json\"\n",
    "url_col = \"url\"\n",
    "caption_col = \"caption\"\n",
    "output_dir = os.path.abspath(\"../data/out/clipsubset\")\n",
    "if os.path.exists(output_dir): # we delete the output dir entire tree if it already exists (to avoid conflicts with the existing files)\n",
    "    shutil.rmtree(output_dir)\n",
    "\n",
    "download(\n",
    "    processes_count=4,\n",
    "    thread_count=64,\n",
    "    url_list=input_urls,\n",
    "    input_format= input_format,\n",
    "    url_col= url_col,\n",
    "    caption_col= caption_col,\n",
    "    image_size=256,\n",
    "    output_folder=output_dir,\n",
    "    output_format=\"files\",\n",
    ")"
   ]
  },
  {
   "cell_type": "code",
   "execution_count": 36,
   "metadata": {},
   "outputs": [
    {
     "name": "stdout",
     "output_type": "stream",
     "text": [
      "Caption and Image:\n",
      "\n",
      "yolları : Colorful space background with nebula and flying stars\n"
     ]
    },
    {
     "data": {
      "image/jpeg": "[encoded data removed]",
      "text/plain": [
       "<IPython.core.display.Image object>"
      ]
     },
     "execution_count": 36,
     "metadata": {},
     "output_type": "execute_result"
    }
   ],
   "source": [
    "print(\"Caption and Image:\\n\")\n",
    "print(open(file=output_dir+'/00000/000000001.txt').read())\n",
    "Image(filename=output_dir+'/00000/000000001.jpg')"
   ]
  },
  {
   "cell_type": "markdown",
   "metadata": {},
   "source": [
    "--- \n",
    "\n",
    "---"
   ]
  },
  {
   "cell_type": "code",
   "execution_count": 1,
   "metadata": {},
   "outputs": [
    {
     "name": "stdout",
     "output_type": "stream",
     "text": [
      "Starting the downloading of this file\n",
      "Sharding file number 1 of 1 called /Users/jacopoferro/Documents/CompPhoto/spacewarp/data/in/unsplash-research-dataset-lite-latest/photos.tsv000\n"
     ]
    },
    {
     "name": "stderr",
     "output_type": "stream",
     "text": [
      "0it [00:00, ?it/s]"
     ]
    },
    {
     "name": "stdout",
     "output_type": "stream",
     "text": [
      "File sharded in 3 shards\n",
      "Downloading starting now, check your bandwidth speed (with bwm-ng)your cpu (with htop), and your disk usage (with iotop)!\n"
     ]
    },
    {
     "name": "stderr",
     "output_type": "stream",
     "text": [
      "1it [52:44, 3164.09s/it]"
     ]
    },
    {
     "name": "stdout",
     "output_type": "stream",
     "text": [
      "worker  - success: 0.070 - failed to download: 0.930 - failed to resize: 0.000 - images per sec: 2 - count: 5000\n",
      "total   - success: 0.070 - failed to download: 0.930 - failed to resize: 0.000 - images per sec: 2 - count: 5000\n"
     ]
    },
    {
     "name": "stderr",
     "output_type": "stream",
     "text": [
      "1it [1:25:35, 5135.97s/it]\n"
     ]
    },
    {
     "ename": "AttributeError",
     "evalue": "'tuple' object has no attribute 'tb_frame'",
     "output_type": "error",
     "traceback": [
      "\u001b[0;31m---------------------------------------------------------------------------\u001b[0m",
      "\u001b[0;31mIndexError\u001b[0m                                Traceback (most recent call last)",
      "File \u001b[0;32m~/opt/anaconda3/envs/computational_photography/lib/python3.11/multiprocessing/pool.py:856\u001b[0m, in \u001b[0;36mIMapIterator.next\u001b[0;34m(self, timeout)\u001b[0m\n\u001b[1;32m    855\u001b[0m \u001b[39mtry\u001b[39;00m:\n\u001b[0;32m--> 856\u001b[0m     item \u001b[39m=\u001b[39m \u001b[39mself\u001b[39;49m\u001b[39m.\u001b[39;49m_items\u001b[39m.\u001b[39;49mpopleft()\n\u001b[1;32m    857\u001b[0m \u001b[39mexcept\u001b[39;00m \u001b[39mIndexError\u001b[39;00m:\n",
      "\u001b[0;31mIndexError\u001b[0m: pop from an empty deque",
      "\nDuring handling of the above exception, another exception occurred:\n",
      "\u001b[0;31mSystemExit\u001b[0m                                Traceback (most recent call last)",
      "    \u001b[0;31m[... skipping hidden 1 frame]\u001b[0m\n",
      "Cell \u001b[0;32mIn[1], line 14\u001b[0m\n\u001b[1;32m     12\u001b[0m     shutil\u001b[39m.\u001b[39mrmtree(output_dir)\n\u001b[0;32m---> 14\u001b[0m download(\n\u001b[1;32m     15\u001b[0m     processes_count\u001b[39m=\u001b[39;49m\u001b[39m8\u001b[39;49m,\n\u001b[1;32m     16\u001b[0m     thread_count\u001b[39m=\u001b[39;49m\u001b[39m256\u001b[39;49m,\n\u001b[1;32m     17\u001b[0m     url_list\u001b[39m=\u001b[39;49minput_urls,\n\u001b[1;32m     18\u001b[0m     input_format\u001b[39m=\u001b[39;49m input_format,\n\u001b[1;32m     19\u001b[0m     url_col\u001b[39m=\u001b[39;49m url_col,\n\u001b[1;32m     20\u001b[0m     caption_col\u001b[39m=\u001b[39;49m caption_col,\n\u001b[1;32m     21\u001b[0m     image_size\u001b[39m=\u001b[39;49m\u001b[39m512\u001b[39;49m,\n\u001b[1;32m     22\u001b[0m     output_folder\u001b[39m=\u001b[39;49moutput_dir,\n\u001b[1;32m     23\u001b[0m     output_format\u001b[39m=\u001b[39;49m\u001b[39m\"\u001b[39;49m\u001b[39mfiles\u001b[39;49m\u001b[39m\"\u001b[39;49m,\n\u001b[1;32m     24\u001b[0m     save_additional_columns\u001b[39m=\u001b[39;49m[\u001b[39m'\u001b[39;49m\u001b[39mphoto_id\u001b[39;49m\u001b[39m'\u001b[39;49m],\n\u001b[1;32m     25\u001b[0m )\n",
      "File \u001b[0;32m~/opt/anaconda3/envs/computational_photography/lib/python3.11/site-packages/img2dataset/main.py:250\u001b[0m, in \u001b[0;36mdownload\u001b[0;34m(url_list, image_size, output_folder, processes_count, resize_mode, resize_only_if_bigger, upscale_interpolation, downscale_interpolation, encode_quality, encode_format, skip_reencode, output_format, input_format, url_col, caption_col, bbox_col, thread_count, number_sample_per_shard, extract_exif, save_additional_columns, timeout, enable_wandb, wandb_project, oom_shard_count, compute_hash, verify_hash, distributor, subjob_size, retries, disable_all_reencoding, min_image_size, max_image_area, max_aspect_ratio, incremental_mode, max_shard_retry, user_agent_token, disallowed_header_directives)\u001b[0m\n\u001b[1;32m    248\u001b[0m     \u001b[39mraise\u001b[39;00m \u001b[39mValueError\u001b[39;00m(\u001b[39mf\u001b[39m\u001b[39m\"\u001b[39m\u001b[39mDistributor \u001b[39m\u001b[39m{\u001b[39;00mdistributor\u001b[39m}\u001b[39;00m\u001b[39m not supported\u001b[39m\u001b[39m\"\u001b[39m)\n\u001b[0;32m--> 250\u001b[0m distributor_fn(\n\u001b[1;32m    251\u001b[0m     processes_count,\n\u001b[1;32m    252\u001b[0m     downloader,\n\u001b[1;32m    253\u001b[0m     reader,\n\u001b[1;32m    254\u001b[0m     subjob_size,\n\u001b[1;32m    255\u001b[0m     max_shard_retry,\n\u001b[1;32m    256\u001b[0m )\n\u001b[1;32m    257\u001b[0m logger_process\u001b[39m.\u001b[39mjoin()\n",
      "File \u001b[0;32m~/opt/anaconda3/envs/computational_photography/lib/python3.11/site-packages/img2dataset/distributor.py:36\u001b[0m, in \u001b[0;36mmultiprocessing_distributor\u001b[0;34m(processes_count, downloader, reader, _, max_shard_retry)\u001b[0m\n\u001b[1;32m     34\u001b[0m     \u001b[39mreturn\u001b[39;00m failed_shards\n\u001b[0;32m---> 36\u001b[0m failed_shards \u001b[39m=\u001b[39m run(reader)\n\u001b[1;32m     38\u001b[0m retrier(run, failed_shards, max_shard_retry)\n",
      "File \u001b[0;32m~/opt/anaconda3/envs/computational_photography/lib/python3.11/site-packages/img2dataset/distributor.py:31\u001b[0m, in \u001b[0;36mmultiprocessing_distributor.<locals>.run\u001b[0;34m(gen)\u001b[0m\n\u001b[1;32m     30\u001b[0m failed_shards \u001b[39m=\u001b[39m []\n\u001b[0;32m---> 31\u001b[0m \u001b[39mfor\u001b[39;00m (status, row) \u001b[39min\u001b[39;00m tqdm(process_pool\u001b[39m.\u001b[39mimap_unordered(downloader, gen)):\n\u001b[1;32m     32\u001b[0m     \u001b[39mif\u001b[39;00m status \u001b[39mis\u001b[39;00m \u001b[39mFalse\u001b[39;00m:\n",
      "File \u001b[0;32m~/opt/anaconda3/envs/computational_photography/lib/python3.11/site-packages/tqdm/std.py:1178\u001b[0m, in \u001b[0;36mtqdm.__iter__\u001b[0;34m(self)\u001b[0m\n\u001b[1;32m   1177\u001b[0m \u001b[39mtry\u001b[39;00m:\n\u001b[0;32m-> 1178\u001b[0m     \u001b[39mfor\u001b[39;00m obj \u001b[39min\u001b[39;00m iterable:\n\u001b[1;32m   1179\u001b[0m         \u001b[39myield\u001b[39;00m obj\n",
      "File \u001b[0;32m~/opt/anaconda3/envs/computational_photography/lib/python3.11/multiprocessing/pool.py:861\u001b[0m, in \u001b[0;36mIMapIterator.next\u001b[0;34m(self, timeout)\u001b[0m\n\u001b[1;32m    860\u001b[0m     \u001b[39mraise\u001b[39;00m \u001b[39mStopIteration\u001b[39;00m \u001b[39mfrom\u001b[39;00m \u001b[39mNone\u001b[39;00m\n\u001b[0;32m--> 861\u001b[0m \u001b[39mself\u001b[39;49m\u001b[39m.\u001b[39;49m_cond\u001b[39m.\u001b[39;49mwait(timeout)\n\u001b[1;32m    862\u001b[0m \u001b[39mtry\u001b[39;00m:\n",
      "File \u001b[0;32m~/opt/anaconda3/envs/computational_photography/lib/python3.11/threading.py:320\u001b[0m, in \u001b[0;36mCondition.wait\u001b[0;34m(self, timeout)\u001b[0m\n\u001b[1;32m    319\u001b[0m \u001b[39mif\u001b[39;00m timeout \u001b[39mis\u001b[39;00m \u001b[39mNone\u001b[39;00m:\n\u001b[0;32m--> 320\u001b[0m     waiter\u001b[39m.\u001b[39;49macquire()\n\u001b[1;32m    321\u001b[0m     gotit \u001b[39m=\u001b[39m \u001b[39mTrue\u001b[39;00m\n",
      "File \u001b[0;32m~/opt/anaconda3/envs/computational_photography/lib/python3.11/site-packages/img2dataset/main.py:139\u001b[0m, in \u001b[0;36mdownload.<locals>.signal_handler\u001b[0;34m(signal_arg, frame)\u001b[0m\n\u001b[1;32m    138\u001b[0m logger_process\u001b[39m.\u001b[39mterminate()\n\u001b[0;32m--> 139\u001b[0m sys\u001b[39m.\u001b[39;49mexit(\u001b[39m0\u001b[39;49m)\n",
      "\u001b[0;31mSystemExit\u001b[0m: 0",
      "\nDuring handling of the above exception, another exception occurred:\n",
      "\u001b[0;31mAttributeError\u001b[0m                            Traceback (most recent call last)",
      "    \u001b[0;31m[... skipping hidden 1 frame]\u001b[0m\n",
      "File \u001b[0;32m~/opt/anaconda3/envs/computational_photography/lib/python3.11/site-packages/IPython/core/interactiveshell.py:2092\u001b[0m, in \u001b[0;36mInteractiveShell.showtraceback\u001b[0;34m(self, exc_tuple, filename, tb_offset, exception_only, running_compiled_code)\u001b[0m\n\u001b[1;32m   2089\u001b[0m \u001b[39mif\u001b[39;00m exception_only:\n\u001b[1;32m   2090\u001b[0m     stb \u001b[39m=\u001b[39m [\u001b[39m'\u001b[39m\u001b[39mAn exception has occurred, use \u001b[39m\u001b[39m%\u001b[39m\u001b[39mtb to see \u001b[39m\u001b[39m'\u001b[39m\n\u001b[1;32m   2091\u001b[0m            \u001b[39m'\u001b[39m\u001b[39mthe full traceback.\u001b[39m\u001b[39m\\n\u001b[39;00m\u001b[39m'\u001b[39m]\n\u001b[0;32m-> 2092\u001b[0m     stb\u001b[39m.\u001b[39mextend(\u001b[39mself\u001b[39;49m\u001b[39m.\u001b[39;49mInteractiveTB\u001b[39m.\u001b[39;49mget_exception_only(etype,\n\u001b[1;32m   2093\u001b[0m                                                      value))\n\u001b[1;32m   2094\u001b[0m \u001b[39melse\u001b[39;00m:\n\u001b[1;32m   2095\u001b[0m     \u001b[39mtry\u001b[39;00m:\n\u001b[1;32m   2096\u001b[0m         \u001b[39m# Exception classes can customise their traceback - we\u001b[39;00m\n\u001b[1;32m   2097\u001b[0m         \u001b[39m# use this in IPython.parallel for exceptions occurring\u001b[39;00m\n\u001b[1;32m   2098\u001b[0m         \u001b[39m# in the engines. This should return a list of strings.\u001b[39;00m\n",
      "File \u001b[0;32m~/opt/anaconda3/envs/computational_photography/lib/python3.11/site-packages/IPython/core/ultratb.py:644\u001b[0m, in \u001b[0;36mListTB.get_exception_only\u001b[0;34m(self, etype, value)\u001b[0m\n\u001b[1;32m    636\u001b[0m \u001b[39mdef\u001b[39;00m \u001b[39mget_exception_only\u001b[39m(\u001b[39mself\u001b[39m, etype, value):\n\u001b[1;32m    637\u001b[0m \u001b[39m    \u001b[39m\u001b[39m\"\"\"Only print the exception type and message, without a traceback.\u001b[39;00m\n\u001b[1;32m    638\u001b[0m \n\u001b[1;32m    639\u001b[0m \u001b[39m    Parameters\u001b[39;00m\n\u001b[0;32m   (...)\u001b[0m\n\u001b[1;32m    642\u001b[0m \u001b[39m    value : exception value\u001b[39;00m\n\u001b[1;32m    643\u001b[0m \u001b[39m    \"\"\"\u001b[39;00m\n\u001b[0;32m--> 644\u001b[0m     \u001b[39mreturn\u001b[39;00m ListTB\u001b[39m.\u001b[39;49mstructured_traceback(\u001b[39mself\u001b[39;49m, etype, value)\n",
      "File \u001b[0;32m~/opt/anaconda3/envs/computational_photography/lib/python3.11/site-packages/IPython/core/ultratb.py:511\u001b[0m, in \u001b[0;36mListTB.structured_traceback\u001b[0;34m(self, etype, evalue, etb, tb_offset, context)\u001b[0m\n\u001b[1;32m    508\u001b[0m     chained_exc_ids\u001b[39m.\u001b[39madd(\u001b[39mid\u001b[39m(exception[\u001b[39m1\u001b[39m]))\n\u001b[1;32m    509\u001b[0m     chained_exceptions_tb_offset \u001b[39m=\u001b[39m \u001b[39m0\u001b[39m\n\u001b[1;32m    510\u001b[0m     out_list \u001b[39m=\u001b[39m (\n\u001b[0;32m--> 511\u001b[0m         \u001b[39mself\u001b[39;49m\u001b[39m.\u001b[39;49mstructured_traceback(\n\u001b[1;32m    512\u001b[0m             etype, evalue, (etb, chained_exc_ids),\n\u001b[1;32m    513\u001b[0m             chained_exceptions_tb_offset, context)\n\u001b[1;32m    514\u001b[0m         \u001b[39m+\u001b[39m chained_exception_message\n\u001b[1;32m    515\u001b[0m         \u001b[39m+\u001b[39m out_list)\n\u001b[1;32m    517\u001b[0m \u001b[39mreturn\u001b[39;00m out_list\n",
      "File \u001b[0;32m~/opt/anaconda3/envs/computational_photography/lib/python3.11/site-packages/IPython/core/ultratb.py:1310\u001b[0m, in \u001b[0;36mAutoFormattedTB.structured_traceback\u001b[0;34m(self, etype, value, tb, tb_offset, number_of_lines_of_context)\u001b[0m\n\u001b[1;32m   1308\u001b[0m \u001b[39melse\u001b[39;00m:\n\u001b[1;32m   1309\u001b[0m     \u001b[39mself\u001b[39m\u001b[39m.\u001b[39mtb \u001b[39m=\u001b[39m tb\n\u001b[0;32m-> 1310\u001b[0m \u001b[39mreturn\u001b[39;00m FormattedTB\u001b[39m.\u001b[39;49mstructured_traceback(\n\u001b[1;32m   1311\u001b[0m     \u001b[39mself\u001b[39;49m, etype, value, tb, tb_offset, number_of_lines_of_context)\n",
      "File \u001b[0;32m~/opt/anaconda3/envs/computational_photography/lib/python3.11/site-packages/IPython/core/ultratb.py:1199\u001b[0m, in \u001b[0;36mFormattedTB.structured_traceback\u001b[0;34m(self, etype, value, tb, tb_offset, number_of_lines_of_context)\u001b[0m\n\u001b[1;32m   1196\u001b[0m mode \u001b[39m=\u001b[39m \u001b[39mself\u001b[39m\u001b[39m.\u001b[39mmode\n\u001b[1;32m   1197\u001b[0m \u001b[39mif\u001b[39;00m mode \u001b[39min\u001b[39;00m \u001b[39mself\u001b[39m\u001b[39m.\u001b[39mverbose_modes:\n\u001b[1;32m   1198\u001b[0m     \u001b[39m# Verbose modes need a full traceback\u001b[39;00m\n\u001b[0;32m-> 1199\u001b[0m     \u001b[39mreturn\u001b[39;00m VerboseTB\u001b[39m.\u001b[39;49mstructured_traceback(\n\u001b[1;32m   1200\u001b[0m         \u001b[39mself\u001b[39;49m, etype, value, tb, tb_offset, number_of_lines_of_context\n\u001b[1;32m   1201\u001b[0m     )\n\u001b[1;32m   1202\u001b[0m \u001b[39melif\u001b[39;00m mode \u001b[39m==\u001b[39m \u001b[39m'\u001b[39m\u001b[39mMinimal\u001b[39m\u001b[39m'\u001b[39m:\n\u001b[1;32m   1203\u001b[0m     \u001b[39mreturn\u001b[39;00m ListTB\u001b[39m.\u001b[39mget_exception_only(\u001b[39mself\u001b[39m, etype, value)\n",
      "File \u001b[0;32m~/opt/anaconda3/envs/computational_photography/lib/python3.11/site-packages/IPython/core/ultratb.py:1052\u001b[0m, in \u001b[0;36mVerboseTB.structured_traceback\u001b[0;34m(self, etype, evalue, etb, tb_offset, number_of_lines_of_context)\u001b[0m\n\u001b[1;32m   1043\u001b[0m \u001b[39mdef\u001b[39;00m \u001b[39mstructured_traceback\u001b[39m(\n\u001b[1;32m   1044\u001b[0m     \u001b[39mself\u001b[39m,\n\u001b[1;32m   1045\u001b[0m     etype: \u001b[39mtype\u001b[39m,\n\u001b[0;32m   (...)\u001b[0m\n\u001b[1;32m   1049\u001b[0m     number_of_lines_of_context: \u001b[39mint\u001b[39m \u001b[39m=\u001b[39m \u001b[39m5\u001b[39m,\n\u001b[1;32m   1050\u001b[0m ):\n\u001b[1;32m   1051\u001b[0m \u001b[39m    \u001b[39m\u001b[39m\"\"\"Return a nice text document describing the traceback.\"\"\"\u001b[39;00m\n\u001b[0;32m-> 1052\u001b[0m     formatted_exception \u001b[39m=\u001b[39m \u001b[39mself\u001b[39;49m\u001b[39m.\u001b[39;49mformat_exception_as_a_whole(etype, evalue, etb, number_of_lines_of_context,\n\u001b[1;32m   1053\u001b[0m                                                            tb_offset)\n\u001b[1;32m   1055\u001b[0m     colors \u001b[39m=\u001b[39m \u001b[39mself\u001b[39m\u001b[39m.\u001b[39mColors  \u001b[39m# just a shorthand + quicker name lookup\u001b[39;00m\n\u001b[1;32m   1056\u001b[0m     colorsnormal \u001b[39m=\u001b[39m colors\u001b[39m.\u001b[39mNormal  \u001b[39m# used a lot\u001b[39;00m\n",
      "File \u001b[0;32m~/opt/anaconda3/envs/computational_photography/lib/python3.11/site-packages/IPython/core/ultratb.py:953\u001b[0m, in \u001b[0;36mVerboseTB.format_exception_as_a_whole\u001b[0;34m(self, etype, evalue, etb, number_of_lines_of_context, tb_offset)\u001b[0m\n\u001b[1;32m    950\u001b[0m \u001b[39massert\u001b[39;00m \u001b[39misinstance\u001b[39m(tb_offset, \u001b[39mint\u001b[39m)\n\u001b[1;32m    951\u001b[0m head \u001b[39m=\u001b[39m \u001b[39mself\u001b[39m\u001b[39m.\u001b[39mprepare_header(etype, \u001b[39mself\u001b[39m\u001b[39m.\u001b[39mlong_header)\n\u001b[1;32m    952\u001b[0m records \u001b[39m=\u001b[39m (\n\u001b[0;32m--> 953\u001b[0m     \u001b[39mself\u001b[39;49m\u001b[39m.\u001b[39;49mget_records(etb, number_of_lines_of_context, tb_offset) \u001b[39mif\u001b[39;00m etb \u001b[39melse\u001b[39;00m []\n\u001b[1;32m    954\u001b[0m )\n\u001b[1;32m    956\u001b[0m frames \u001b[39m=\u001b[39m []\n\u001b[1;32m    957\u001b[0m skipped \u001b[39m=\u001b[39m \u001b[39m0\u001b[39m\n",
      "File \u001b[0;32m~/opt/anaconda3/envs/computational_photography/lib/python3.11/site-packages/IPython/core/ultratb.py:1021\u001b[0m, in \u001b[0;36mVerboseTB.get_records\u001b[0;34m(self, etb, number_of_lines_of_context, tb_offset)\u001b[0m\n\u001b[1;32m   1019\u001b[0m \u001b[39mwhile\u001b[39;00m cf \u001b[39mis\u001b[39;00m \u001b[39mnot\u001b[39;00m \u001b[39mNone\u001b[39;00m:\n\u001b[1;32m   1020\u001b[0m     \u001b[39mtry\u001b[39;00m:\n\u001b[0;32m-> 1021\u001b[0m         source_file \u001b[39m=\u001b[39m inspect\u001b[39m.\u001b[39mgetsourcefile(etb\u001b[39m.\u001b[39;49mtb_frame)\n\u001b[1;32m   1022\u001b[0m         lines, first \u001b[39m=\u001b[39m inspect\u001b[39m.\u001b[39mgetsourcelines(etb\u001b[39m.\u001b[39mtb_frame)\n\u001b[1;32m   1023\u001b[0m     \u001b[39mexcept\u001b[39;00m \u001b[39mOSError\u001b[39;00m:\n",
      "\u001b[0;31mAttributeError\u001b[0m: 'tuple' object has no attribute 'tb_frame'"
     ]
    }
   ],
   "source": [
    "import os \n",
    "import shutil\n",
    "from img2dataset import download\n",
    "\n",
    "# now the real thing, unsplash-research-dataset 25k, photos + ai_generated captions\n",
    "input_urls = os.path.abspath(\"../data/in/unsplash-research-dataset-lite-latest/photos.tsv000\")\n",
    "input_format = \"tsv\"\n",
    "url_col = \"photo_image_url\"\n",
    "caption_col = \"ai_description\"\n",
    "output_dir = os.path.abspath(\"../data/out/unplash-512\")\n",
    "if os.path.exists(output_dir): # we delete the output dir entire tree if it already exists (to avoid conflicts with the existing files)\n",
    "    shutil.rmtree(output_dir)\n",
    "\n",
    "download(\n",
    "    processes_count=8,\n",
    "    thread_count=256,\n",
    "    url_list=input_urls,\n",
    "    input_format= input_format,\n",
    "    url_col= url_col,\n",
    "    caption_col= caption_col,\n",
    "    image_size=512,\n",
    "    output_folder=output_dir,\n",
    "    output_format=\"files\",\n",
    "    save_additional_columns=['photo_id'],\n",
    ")"
   ]
  },
  {
   "cell_type": "markdown",
   "metadata": {},
   "source": [
    "Stopped after 85min, will retry from CLI + set timeout larger because original files are very big and 10s is not enough probably. Also default is incremental so we should not run the 'delete' folder tree thing if we want to keep it incremental.\n",
    "\n",
    "The above is still our useful initial dataset! About 6600 files = 6600 / 3 photos = 2200 roughly. We can use this to start with.\n",
    "\n",
    "I copied the unplash folder and saved it as 'lite'"
   ]
  },
  {
   "cell_type": "markdown",
   "metadata": {},
   "source": [
    "Starting the downloading of this file\n",
    "Sharding file number 1 of 1 called /Users/jacopoferro/Documents/CompPhoto/spacewarp/data/in/unsplash-research-dataset-lite-latest/photos.tsv000\n",
    "0it [00:00, ?it/s]\n",
    "File sharded in 3 shards\n",
    "Downloading starting now, check your bandwidth speed (with bwm-ng)your cpu (with htop), and your disk usage (with iotop)!\n",
    "1it [52:44, 3164.09s/it]\n",
    "worker  - success: 0.070 - failed to download: 0.930 - failed to resize: 0.000 - images per sec: 2 - count: 5000\n",
    "total   - success: 0.070 - failed to download: 0.930 - failed to resize: 0.000 - images per sec: 2 - count: 5000\n",
    "1it [1:25:35, 5135.97s/it]"
   ]
  },
  {
   "cell_type": "markdown",
   "metadata": {},
   "source": []
  }
 ],
 "metadata": {
  "kernelspec": {
   "display_name": "Python 3 (ipykernel)",
   "language": "python",
   "name": "python3"
  },
  "language_info": {
   "codemirror_mode": {
    "name": "ipython",
    "version": 3
   },
   "file_extension": ".py",
   "mimetype": "text/x-python",
   "name": "python",
   "nbconvert_exporter": "python",
   "pygments_lexer": "ipython3",
   "version": "3.9.12"
  }
 },
 "nbformat": 4,
 "nbformat_minor": 2
}
